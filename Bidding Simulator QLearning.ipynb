{
 "cells": [
  {
   "cell_type": "code",
   "execution_count": 1,
   "id": "17750394",
   "metadata": {},
   "outputs": [],
   "source": [
    "import numpy as np\n",
    "import pandas as pd\n",
    "import matplotlib.pyplot as plt\n",
    "import warnings\n",
    "warnings.filterwarnings('ignore')\n",
    "import time"
   ]
  },
  {
   "cell_type": "code",
   "execution_count": 2,
   "id": "104b0594-9d29-4dc3-b61b-48714d06a006",
   "metadata": {},
   "outputs": [],
   "source": [
    "# 18 states : \n",
    "    # state 0 : offer accepted \n",
    "    # state 1: offer rejected\n",
    "    # state 2-17 : listing price raised in 1% increments till 15%\n",
    "\n",
    "# 17 actions : \n",
    "    # action 0: bid same\n",
    "    # action 1-15: bid higher in 1% increments till 15%\n",
    "    # action 16: terminating action (do nothing, end bidding)\n",
    "    "
   ]
  },
  {
   "cell_type": "code",
   "execution_count": 932,
   "id": "7e38bd23",
   "metadata": {},
   "outputs": [],
   "source": [
    "# Without initial state\n",
    "# 17 states : \n",
    "    # state 0 : offer accepted \n",
    "    # state 1: offer rejected\n",
    "    # state 2-16 : listing price raised in 1% increments till 15%\n",
    "\n",
    "# 17 actions : \n",
    "    # action 0: bid same\n",
    "    # action 1-15: bid higher in 1% increments till 15%\n",
    "    # action 16: terminating action (do nothing, end bidding)\n",
    "    \n",
    "# -ve reward for going over budget\n",
    "    \n",
    "\n",
    "def generate(list_price, budgets, other_bids):\n",
    "    normal_bids = np.random.normal(list_price, 0.15*list_price, 1000)\n",
    "    bids = []\n",
    "    \n",
    "    for i, a in enumerate(budgets):\n",
    "        if len(normal_bids[(normal_bids <= a) & (normal_bids >= other_bids[i])]) > 0:\n",
    "            bids += list(np.random.choice(normal_bids[(normal_bids <= a) & (normal_bids >= other_bids[i])], 1))\n",
    "        else:\n",
    "            bids += [other_bids[i]]\n",
    "\n",
    "    return np.array(bids)\n",
    "\n",
    "def raise_bid(list_price, agent_bids):\n",
    "    # whether the seller asks for more offers depending on the average bid\n",
    "    if np.mean(agent_bids) > list_price:\n",
    "        return 1\n",
    "    else: \n",
    "        return 0\n",
    "    \n",
    "def choose_action(A):\n",
    "    # chooses random action \n",
    "    return np.random.choice(A-1)\n",
    "\n",
    "def choose_state(S):\n",
    "    return np.random.choice(np.arange(2,S,1)) # choose continuation state (listing raised by 1-15%)\n",
    "\n",
    "def new_list_price(s, list_price):\n",
    "    return (1+(s-1)*0.01)*list_price\n",
    "\n",
    "def simulate_bids(list_price, budget, nbidders, verbose=1):\n",
    "    S = 17\n",
    "    A = 17\n",
    "    \n",
    "    s = []\n",
    "    a = []\n",
    "    r = []\n",
    "    \n",
    "    count = 0\n",
    "    \n",
    "    main_bid = np.random.normal(list_price, 0.15*list_price, 1)\n",
    "    agent_budgets = list_price + np.random.choice(np.arange(-0.2, 0.5, 0.01), nbidders)*list_price\n",
    "    if verbose: print(f'Budgets of all agents = {agent_budgets}. Our budget = {budget}')\n",
    "    agent_bids = np.append(generate(list_price, agent_budgets, np.array([0]*nbidders)), main_bid) # generates all the bids\n",
    "\n",
    "    if verbose: print(f'Round {count} bids at listing price of ${list_price}: \\n {agent_bids}\\n Our bid = ${int(main_bid)}' )\n",
    "    if verbose: print('------------------------------------------------------------------------- \\n')\n",
    "    \n",
    "    count += 1\n",
    "    \n",
    "    # randomly choose continuation state and increase list price correspondingly\n",
    "    state = choose_state(S) \n",
    "    s += [state] \n",
    "    list_price = new_list_price(state, list_price)\n",
    "        \n",
    "        # choose random action \n",
    "    actions = np.arange(1, 1 + 0.01*(A-1), 0.01) # 16 actions. \n",
    "    action = choose_action(A) # randomly select action\n",
    "    a += [action]\n",
    "    main_bid = actions[action]*main_bid # Main-bid raised by the action\n",
    "        \n",
    "    if action > 0: # raise the bid by x%\n",
    "        r += [float(budget - main_bid)/budget] #r(2,1:)\n",
    "            \n",
    "    else:\n",
    "        r += [0] # Maintain the bid\n",
    "\n",
    "    agent_bids = np.append(generate(list_price, agent_budgets, agent_bids), main_bid)\n",
    "    if verbose: print(f'Asking for more offers - Round {count} ...')\n",
    "    if verbose: print(f'Round {count}. New listing price: ${list_price}: \\n {agent_bids}\\n Our bid = ${int(main_bid)}')\n",
    "    if verbose: print(f'Seller raise the price by {(state-1)}%')\n",
    "    if verbose: print(f'We raise the bid by {action}%')\n",
    "    if verbose: print('------------------------------------------------------------------------- \\n')\n",
    "    \n",
    "    \n",
    " \n",
    "    while raise_bid(list_price, agent_bids[:-1]) & (count < 5):\n",
    "        \n",
    "        # randomly choose continuation state and increase list price correspondingly\n",
    "        state = choose_state(S) \n",
    "        s += [state] \n",
    "        list_price = new_list_price(state, list_price)\n",
    "        \n",
    "        # choose random action \n",
    "        actions = np.arange(1, 1 + 0.01*(A-1), 0.01) # 16 actions. \n",
    "        action = choose_action(A) # randomly select action\n",
    "        a += [action]\n",
    "        main_bid = actions[action]*main_bid # Main-bid raised by the action\n",
    "        \n",
    "        if action > 0: # raise the bid by x%\n",
    "            r += [float(budget - main_bid)/budget] #r(2,1:)\n",
    "            \n",
    "        else:\n",
    "            r += [0] # Maintain the bid\n",
    "\n",
    "        agent_bids = np.append(generate(list_price, agent_budgets, agent_bids), main_bid)\n",
    "        count += 1\n",
    "        if verbose: print(f'Asking for more offers - Round {count} ...')\n",
    "        if verbose: print(f'Round {count}. New listing price: ${list_price}: \\n {agent_bids}\\n Our bid = ${int(main_bid)}')\n",
    "        if verbose: print(f'Seller raise the price by {(state-1)}%')\n",
    "        if verbose: print(f'We raise the bid by {action}%')\n",
    "        if verbose: print('------------------------------------------------------------------------- \\n')\n",
    "    \n",
    "    if main_bid == np.max(agent_bids):\n",
    "        # if the our bid is accepted\n",
    "        s += [0]\n",
    "        r += [1 + float(budget - main_bid)/budget]\n",
    "        if verbose: print(f'Bidding stopped after {count} round(s). We won the the house at ${int(np.max(agent_bids))}! You are invited to the housewarming!! :D')\n",
    "        if budget > main_bid:\n",
    "            if verbose: print(f'We are ${float(budget - main_bid):.2f} within budget')\n",
    "        else:\n",
    "            if verbose: print(f'We are ${float(main_bid - budget):.2f} over budget')\n",
    "    else:\n",
    "        # if our bid is rejected\n",
    "        s += [1]\n",
    "        r += [0]\n",
    "        if verbose: print(f'Bidding stopped after {count} round(s). House sold to maximum bidder at ${np.max(agent_bids):.2f}. Better luck next time ! :(')\n",
    "\n",
    " \n",
    "    if count > 1:\n",
    "        return pd.DataFrame({'s':s[:-1], 'a':a, 'sp':s[1:], 'r':r[:-1]}).append(pd.DataFrame({'s':s[-1], 'a':[16], 'sp':s[-1], 'r':r[-1]}))\n",
    "    else:\n",
    "        return pd.DataFrame({'s':s[0], 'a':[16], 'sp':s[0], 'r':r[-1]})\n",
    "    \n",
    "    "
   ]
  },
  {
   "cell_type": "code",
   "execution_count": 856,
   "id": "35c7680d",
   "metadata": {},
   "outputs": [
    {
     "ename": "SyntaxError",
     "evalue": "incomplete input (451861865.py, line 1)",
     "output_type": "error",
     "traceback": [
      "\u001b[0;36m  Cell \u001b[0;32mIn [856], line 1\u001b[0;36m\u001b[0m\n\u001b[0;31m    '''# With initial state\u001b[0m\n\u001b[0m    ^\u001b[0m\n\u001b[0;31mSyntaxError\u001b[0m\u001b[0;31m:\u001b[0m incomplete input\n"
     ]
    }
   ],
   "source": [
    "'''# With initial state\n",
    "def generate(list_price, budgets, other_bids):\n",
    "    normal_bids = np.random.normal(list_price, 0.15*list_price, 1000)\n",
    "    bids = []\n",
    "    \n",
    "    for i, a in enumerate(budgets):\n",
    "        if len(normal_bids[(normal_bids <= a) & (normal_bids >= other_bids[i])]) > 0:\n",
    "            bids += list(np.random.choice(normal_bids[(normal_bids <= a) & (normal_bids >= other_bids[i])], 1))\n",
    "        else:\n",
    "            bids += [other_bids[i]]\n",
    "\n",
    "    return np.array(bids)\n",
    "\n",
    "def raise_bid(list_price, agent_bids):\n",
    "    # whether the seller asks for more offers depending on the average bid\n",
    "    if np.mean(agent_bids) > list_price:\n",
    "        return 1\n",
    "    else: \n",
    "        return 0\n",
    "    \n",
    "def choose_action(A):\n",
    "    # chooses random action \n",
    "    return np.random.choice(A-1)\n",
    "\n",
    "def choose_state(S):\n",
    "    return np.random.choice(np.arange(2,S,1)) # choose continuation state (listing raised by 1-15%)\n",
    "\n",
    "def new_list_price(s, list_price):\n",
    "    return (1+(s-2)*0.01)*list_price\n",
    "\n",
    "def simulate_bids(list_price, budget, nbidders, verbose=1):\n",
    "    S = 18\n",
    "    A = 17\n",
    "    \n",
    "    s = []\n",
    "    a = []\n",
    "    r = []\n",
    "    \n",
    "    count = 1\n",
    "    \n",
    "    s += [2]\n",
    "    \n",
    "    actions = np.arange(1, 1 + 0.01*(A-1), 0.01) # 16 continuation actions.\n",
    "    \n",
    "    if np.random.rand() < 0.5:\n",
    "        action = choose_action(A) # randomly select action\n",
    "        a += [action]\n",
    "    else:\n",
    "        action = choose_action(8)\n",
    "        a += [action]\n",
    "    \n",
    "    main_bid = actions[action]*list_price # Main-bid raised by the action\n",
    "        \n",
    "    if action > 0: # raise the bid by x%\n",
    "        r += [float(budget - main_bid)/budget] #r(2,1:)\n",
    "            \n",
    "    else:\n",
    "        r += [0] # Maintain the bid\n",
    "    \n",
    "    agent_budgets = list_price + np.random.choice(np.arange(-0.2, 0.5, 0.01), nbidders)*list_price\n",
    "    if verbose: print(f'Budgets of all agents = {agent_budgets}. Our budget = {budget}')\n",
    "    agent_bids = np.append(generate(list_price, agent_budgets, np.array([0]*nbidders)), main_bid) # generates all the bids\n",
    "\n",
    "    if verbose: print(f'Round {count} bids at listing price of ${list_price}: \\n {agent_bids}\\n Our bid = ${int(main_bid)}' )\n",
    "    if verbose: print('------------------------------------------------------------------------- \\n')\n",
    "    \n",
    "    \n",
    " \n",
    "    while raise_bid(list_price, agent_bids[:-1]) & (count < 5):\n",
    "        \n",
    "        # randomly choose continuation state and increase list price correspondingly\n",
    "        state = choose_state(S) \n",
    "        s += [state] \n",
    "        list_price = new_list_price(state, list_price)\n",
    "        \n",
    "        # choose random action \n",
    "        actions = np.arange(1, 1 + 0.01*(A-1), 0.01) # 16 actions. \n",
    "        action = choose_action(A) # randomly select action\n",
    "        a += [action]\n",
    "        main_bid = actions[action]*main_bid # Main-bid raised by the action\n",
    "        \n",
    "        if action > 0: # raise the bid by x%\n",
    "            r += [float(budget - main_bid)/budget] #r(2,1:)\n",
    "            \n",
    "        else:\n",
    "            r += [0] # Maintain the bid\n",
    "\n",
    "        agent_bids = np.append(generate(list_price, agent_budgets, agent_bids), main_bid)\n",
    "        count += 1\n",
    "        if verbose: print(f'Asking for more offers - Round {count} ...')\n",
    "        if verbose: print(f'Round {count}. New listing price: ${list_price}: \\n {agent_bids}\\n Our bid = ${int(main_bid)}')\n",
    "        if verbose: print(f'Seller raise the price by {(state-1)}%')\n",
    "        if verbose: print(f'We raise the bid by {action}%')\n",
    "        if verbose: print('------------------------------------------------------------------------- \\n')\n",
    "    \n",
    "    if main_bid == np.max(agent_bids):\n",
    "        # if the our bid is accepted\n",
    "        s += [0]\n",
    "        r += [1 + 4*float(budget - main_bid)/budget]\n",
    "        if verbose: print(f'Bidding stopped after {count} round(s). We won the the house at ${int(np.max(agent_bids))}! You are invited to the housewarming!! :D')\n",
    "        if budget > main_bid:\n",
    "            if verbose: print(f'We are ${int(budget - main_bid)} within budget')\n",
    "        else:\n",
    "            if verbose: print(f'We are ${int(main_bid - budget)} over budget')\n",
    "    else:\n",
    "        # if our bid is rejected\n",
    "        s += [1]\n",
    "        r += [0]\n",
    "        if verbose: print(f'Bidding stopped after {count} round(s). House sold to maximum bidder at ${np.max(agent_bids):.2f}. Better luck next time ! :(')\n",
    "\n",
    " \n",
    "    return pd.DataFrame({'s':s[:-1], 'a':a, 'sp':s[1:], 'r':r[:-1]}).append(pd.DataFrame({'s':s[-1], 'a':[A-1], 'sp':s[-1], 'r':r[-1]}))\n",
    "    \n",
    "    "
   ]
  },
  {
   "cell_type": "markdown",
   "id": "427be74d",
   "metadata": {},
   "source": [
    "## Create s,a,s',r dataframe"
   ]
  },
  {
   "cell_type": "code",
   "execution_count": 947,
   "id": "b631f269",
   "metadata": {},
   "outputs": [
    {
     "name": "stdout",
     "output_type": "stream",
     "text": [
      "Time: 198.0303497314453\n"
     ]
    }
   ],
   "source": [
    "states = []\n",
    "actions = []\n",
    "\n",
    "# simulate 200000 bidding scenarios for listing prices and budget of $1mn to $5mn  \n",
    "df = pd.DataFrame({'s':[], 'a':[], 'sp':[], 'r':[]})\n",
    "st = time.time()\n",
    "for i in np.random.choice(np.linspace(1e6, 5e6, 100), 1000):\n",
    "    for j in i + np.random.choice(np.arange(-0.2, 0.5, 0.01), 200)*i: # budget in [0.8*list_price, 1.5*list_price]\n",
    "        df = df.append(simulate_bids(i,j,nbidders = 4, verbose = 0))\n",
    "et = time.time()\n",
    "print(f'Time: {et-st}')\n",
    "\n",
    "df = df.reset_index(drop=True)\n",
    "for c in df.columns[:-1]:\n",
    "    df[c] = df[c].astype(int)\n"
   ]
  },
  {
   "cell_type": "code",
   "execution_count": 950,
   "id": "d21dc75d",
   "metadata": {},
   "outputs": [],
   "source": [
    "# Generate transition matrix (S,A,S) and reward matrix (S,A)\n",
    "S = 17\n",
    "A = 17\n",
    "\n",
    "sa = df.groupby(['s', 'a']).size().reset_index().rename(columns = {0:'sa_counts'})\n",
    "sas = df.groupby(['s', 'a', 'sp']).size().reset_index().rename(columns = {0:'sas_counts'})\n",
    "sas = sas.merge(sa, on = ['s', 'a']) # state action state dataframe\n",
    "sas['prob'] = sas.sas_counts/sas.sa_counts # transition probabilities\n",
    "\n",
    "transition = np.zeros((S,A,S)) # initialize transition matrix\n",
    "rewards = np.zeros((S, A)) # initialize rewards matrix\n",
    "\n",
    "for i in range(len(sas)):\n",
    "    transition[int(sas.s[i]), int(sas.a[i]), int(sas.sp[i])] = sas.prob[i]\n",
    "\n",
    "for s in np.arange(S):\n",
    "    transition[s,A-1,s] = 1 # terminating action leads to the same state deterministically\n",
    "\n",
    "#for a in np.arange(27): # s=0 and s=1 are terminating states\n",
    "    #transition[0,a,0] = 1\n",
    "    #transition[1,a,1] = 1\n",
    "\n",
    "    \n",
    "rewards[0,:] = df[df.s == 0].r.mean()\n",
    "rewards[1,:] = df[df.s == 1].r.mean()\n",
    "for i in range(2,S):\n",
    "    for j in range(A):\n",
    "        rewards[i,j] = df[(df.s == i)&(df.a == j)].r.mean()\n",
    "\n",
    "rewards = np.nan_to_num(rewards)"
   ]
  },
  {
   "cell_type": "code",
   "execution_count": 951,
   "id": "cb3a7695",
   "metadata": {},
   "outputs": [
    {
     "data": {
      "text/plain": [
       "Text(0.5, 1.0, 'Rewards')"
      ]
     },
     "execution_count": 951,
     "metadata": {},
     "output_type": "execute_result"
    },
    {
     "data": {
      "image/png": "[encoded data removed]",
      "text/plain": [
       "<Figure size 640x480 with 2 Axes>"
      ]
     },
     "metadata": {},
     "output_type": "display_data"
    }
   ],
   "source": [
    "plt.imshow(rewards)\n",
    "plt.colorbar()\n",
    "plt.title('Rewards')"
   ]
  },
  {
   "cell_type": "code",
   "execution_count": 952,
   "id": "653487eb",
   "metadata": {},
   "outputs": [
    {
     "data": {
      "image/png": "[encoded data removed]",
      "text/plain": [
       "<Figure size 1000x1000 with 17 Axes>"
      ]
     },
     "metadata": {},
     "output_type": "display_data"
    }
   ],
   "source": [
    "plt.figure(figsize = (10,10))\n",
    "for i in range(17):\n",
    "    plt.subplot(3,6,i+1)\n",
    "    plt.imshow(transition[i])\n",
    "    plt.title(f's={i}')\n"
   ]
  },
  {
   "cell_type": "code",
   "execution_count": 953,
   "id": "5a432276-7d56-42ac-bcc6-fdcb6be3c39c",
   "metadata": {},
   "outputs": [],
   "source": [
    "class MDP:\n",
    "    def __init__(self, gamma, S, A, T, R):\n",
    "        self.gamma = gamma\n",
    "        self.S = S\n",
    "        self.A = A\n",
    "        self.T = T\n",
    "        self.R = R"
   ]
  },
  {
   "cell_type": "code",
   "execution_count": 954,
   "id": "7d5da66e-17ae-4b48-b90f-d842d722e23b",
   "metadata": {},
   "outputs": [],
   "source": [
    "def lookahead(MDP, U, s, a):\n",
    "    'Performs one step lookahead for taking action a from state s using estimate U from problem MDP'\n",
    "    S,T,R,gamma = MDP.S, MDP.T, MDP.R, MDP.gamma\n",
    "    return R[s,a] + gamma*sum(T[s,a,sp]*U[i] for i,sp in enumerate(S))"
   ]
  },
  {
   "cell_type": "code",
   "execution_count": 955,
   "id": "820fc258-e7a7-48da-88b9-efbee8f6e6eb",
   "metadata": {},
   "outputs": [],
   "source": [
    "def greedy(MDP, U, s):\n",
    "    'Returns best action and value function for state s and estimated U'\n",
    "    u = np.max([lookahead(MDP, U, s, a) for a in A])\n",
    "    a = np.argmax([lookahead(MDP, U, s, a) for a in A])\n",
    "    return u,a\n",
    "\n",
    "class ValueFunctionPolicy:\n",
    "    def __init__ (self, MDP, U):\n",
    "        self.MDP = MDP\n",
    "        self.U = U\n",
    "        \n",
    "    def __call__(self, s):\n",
    "        return greedy(self.MDP, self.U, s)"
   ]
  },
  {
   "cell_type": "code",
   "execution_count": 956,
   "id": "95e1fa35-03eb-479e-8639-5eb4f0cc7d2d",
   "metadata": {},
   "outputs": [],
   "source": [
    "def backup(MDP, U, s):\n",
    "    'Returns improved utility function by performing Bellman backup'\n",
    "    return np.max([lookahead(MDP, U, s, a) for a in MDP.A])"
   ]
  },
  {
   "cell_type": "code",
   "execution_count": 957,
   "id": "3b8d0752-dcd0-41bd-8d97-973723860f8e",
   "metadata": {},
   "outputs": [],
   "source": [
    "class value_iteration:\n",
    "    def __init__(self, k_max):\n",
    "        self.k_max = k_max\n",
    "        \n",
    "def solve(M, MDP):\n",
    "    'Returns ValueF'\n",
    "    U = [0.0 for s in MDP.S]\n",
    "    for k in np.arange(M.k_max):\n",
    "        U = [backup(MDP, U, s) for s in MDP.S]\n",
    "    return ValueFunctionPolicy(MDP, U)"
   ]
  },
  {
   "cell_type": "code",
   "execution_count": 958,
   "id": "6167ca60-f799-4411-b67e-97058f564325",
   "metadata": {},
   "outputs": [],
   "source": [
    "S = np.arange(17)\n",
    "A = np.arange(17)"
   ]
  },
  {
   "cell_type": "code",
   "execution_count": 959,
   "id": "68b9d22a-86c2-4ffa-9eb3-a0639ad9cf10",
   "metadata": {},
   "outputs": [],
   "source": [
    "# Declare MDP problem with gamma = 0.95\n",
    "problem = MDP(1, S, A, transition, rewards)\n",
    "M = value_iteration(200) # runs value iteration for 200 iterations\n"
   ]
  },
  {
   "cell_type": "code",
   "execution_count": 960,
   "id": "eaedfb29-2bfc-4fb0-a6f9-fd7a2dccfa4a",
   "metadata": {},
   "outputs": [
    {
     "name": "stdout",
     "output_type": "stream",
     "text": [
      "<__main__.value_iteration object at 0x28b9a04f0> iterations of value iteration performed in 4.153187990188599 seconds\n"
     ]
    }
   ],
   "source": [
    "# Solve MDP by performing value iteration for 200 iterations\n",
    "st = time.time()\n",
    "solution = [solve(M, problem)(s) for s in S]\n",
    "et = time.time()\n",
    "print(f'{M} iterations of value iteration performed in {et - st} seconds')\n",
    "best_policy = [s[1] for s in solution]\n",
    "best_policy[1] = 16\n",
    "U_vi = [s[0] for s in solution]"
   ]
  },
  {
   "cell_type": "code",
   "execution_count": 961,
   "id": "97dcf767",
   "metadata": {},
   "outputs": [
    {
     "data": {
      "text/plain": [
       "[16, 16, 15, 14, 14, 15, 15, 13, 15, 15, 14, 15, 14, 14, 15, 15, 15]"
      ]
     },
     "execution_count": 961,
     "metadata": {},
     "output_type": "execute_result"
    }
   ],
   "source": [
    "best_policy"
   ]
  },
  {
   "cell_type": "code",
   "execution_count": 930,
   "id": "400fe772",
   "metadata": {},
   "outputs": [
    {
     "data": {
      "text/plain": [
       "<matplotlib.image.AxesImage at 0x28bb35150>"
      ]
     },
     "execution_count": 930,
     "metadata": {},
     "output_type": "execute_result"
    },
    {
     "data": {
      "image/png": "[encoded data removed]",
      "text/plain": [
       "<Figure size 640x480 with 1 Axes>"
      ]
     },
     "metadata": {},
     "output_type": "display_data"
    }
   ],
   "source": [
    "plt.imshow(np.array(best_policy).reshape(1,-1))"
   ]
  },
  {
   "cell_type": "code",
   "execution_count": 962,
   "id": "df5a205d",
   "metadata": {},
   "outputs": [
    {
     "data": {
      "text/plain": [
       "<matplotlib.legend.Legend at 0x28bf916c0>"
      ]
     },
     "execution_count": 962,
     "metadata": {},
     "output_type": "execute_result"
    },
    {
     "data": {
      "image/png": "[encoded data removed]",
      "text/plain": [
       "<Figure size 640x480 with 2 Axes>"
      ]
     },
     "metadata": {},
     "output_type": "display_data"
    }
   ],
   "source": [
    "fig, ax1 = plt.subplots()\n",
    "ax1.plot(best_policy, color = 'blue', label = 'Policy')\n",
    "ax1.grid()\n",
    "ax1.set_ylim(0,17)\n",
    "ax2 = ax1.twinx()\n",
    "ax2.plot(U_vi, color = 'red', label = 'Utility')\n",
    "ax1.legend()\n",
    "ax1.set_ylabel('% increase in bid')\n",
    "ax2.set_ylabel('Utility')\n",
    "ax1.set_xlabel('State')\n",
    "ax2.legend(loc = (0.8, 0.7))\n",
    "\n"
   ]
  },
  {
   "cell_type": "markdown",
   "id": "5ed8317b",
   "metadata": {},
   "source": [
    "## Q-LEARNING"
   ]
  },
  {
   "cell_type": "code",
   "execution_count": 963,
   "id": "68f4074a-0d18-4015-883b-576561268283",
   "metadata": {},
   "outputs": [],
   "source": [
    "class QLearning:\n",
    "    def __init__(self, S, A, gamma, Q, alpha):\n",
    "        self.S = S\n",
    "        self.A = A\n",
    "        self.gamma = gamma\n",
    "        self.Q = Q\n",
    "        self.alpha = alpha\n",
    "        \n",
    "def lookahead(model, s, a):\n",
    "    return model.Q[s, a]\n",
    "\n",
    "def update(model, s, a, r, sp):\n",
    "    gamma, Q, alpha = model.gamma, model.Q, model.alpha\n",
    "    Q[s,a] += alpha*(r + gamma*np.max(Q[sp,:]) - Q[s,a])\n",
    "    return model"
   ]
  },
  {
   "cell_type": "code",
   "execution_count": 1016,
   "id": "de68dcb1-6372-4035-83db-ba09ad076215",
   "metadata": {},
   "outputs": [],
   "source": [
    "def simulate(samples, model, h, epsilon, decay):\n",
    "    '''\n",
    "    Args\n",
    "        samples: s,a,r,sp dataset\n",
    "        model: QLearning model class\n",
    "        pi: EpsilonGreedyExploration class and callable\n",
    "        h: # passes through dataset\n",
    "        epsilon: probability of sampling random action from available actions from state s\n",
    "        decay: decay rate of epsilon\n",
    "    \n",
    "    Returns updated Q learning model\n",
    "    \n",
    "    '''\n",
    "    \n",
    "    S = 17\n",
    "    A = 17\n",
    "    \n",
    "    for it in range(h):\n",
    "        epsilon = epsilon\n",
    "        for i in range(len(samples)):\n",
    "            s = samples.s[i] # sample starting state\n",
    "            if (np.random.rand() < epsilon) & (s > 1):\n",
    "                a = np.random.choice(np.arange(A-1))\n",
    "                sp = np.random.choice(S, 1, list(transition[s,a]))\n",
    "                r = np.random.choice(samples[(samples.s == s)&(samples.a == a)].r)\n",
    "            else:\n",
    "                a = np.argmax(model.Q[s,:])\n",
    "                sp = np.random.choice(S, 1, list(transition[s,a]))\n",
    "                r = np.random.choice(samples[(samples.s == s)&(samples.a == a)].r)\n",
    "            \n",
    "            epsilon = decay*epsilon # decay the epsilon by decay factor\n",
    "            #sampling_index = np.random.choice(np.array(np.where((samples.s == s)&(samples.a == a))).ravel()) # sample an index from the dataset where action a is taken in state s\n",
    "            #sp, r = samples.iloc[sampling_index, :].sp, samples.iloc[sampling_index, :].r\n",
    "            update(model, s, a, r, sp)\n",
    "            #s = sp\n",
    "    return model"
   ]
  },
  {
   "cell_type": "code",
   "execution_count": 1017,
   "id": "71408745-8e58-4808-8d00-9745a09bd223",
   "metadata": {},
   "outputs": [],
   "source": [
    "S = np.arange(17)\n",
    "A = np.arange(17)\n",
    "Ui = np.zeros(len(S)) # initial U\n",
    "gamma = 1\n",
    "Q = np.zeros((len(S), len(A)))"
   ]
  },
  {
   "cell_type": "code",
   "execution_count": 1018,
   "id": "4876810d-02ca-4955-8e59-2b4fbf53d8ae",
   "metadata": {},
   "outputs": [
    {
     "ename": "ValueError",
     "evalue": "'a' cannot be empty unless no samples are taken",
     "output_type": "error",
     "traceback": [
      "\u001b[0;31m---------------------------------------------------------------------------\u001b[0m",
      "\u001b[0;31mValueError\u001b[0m                                Traceback (most recent call last)",
      "Cell \u001b[0;32mIn [1018], line 4\u001b[0m\n\u001b[1;32m      2\u001b[0m \u001b[38;5;66;03m#pi = EpsilonGreedyExploration(0.1, 0.9)\u001b[39;00m\n\u001b[1;32m      3\u001b[0m st \u001b[38;5;241m=\u001b[39m time\u001b[38;5;241m.\u001b[39mtime()\n\u001b[0;32m----> 4\u001b[0m Q \u001b[38;5;241m=\u001b[39m \u001b[43msimulate\u001b[49m\u001b[43m(\u001b[49m\u001b[43mdf\u001b[49m\u001b[43m,\u001b[49m\u001b[43m \u001b[49m\u001b[43mmodel\u001b[49m\u001b[43m,\u001b[49m\u001b[43m \u001b[49m\u001b[38;5;241;43m10\u001b[39;49m\u001b[43m,\u001b[49m\u001b[43m \u001b[49m\u001b[38;5;241;43m0.33\u001b[39;49m\u001b[43m,\u001b[49m\u001b[43m \u001b[49m\u001b[38;5;241;43m0.9\u001b[39;49m\u001b[43m)\u001b[49m\u001b[38;5;241m.\u001b[39mQ\n\u001b[1;32m      5\u001b[0m et \u001b[38;5;241m=\u001b[39m time\u001b[38;5;241m.\u001b[39mtime()\n\u001b[1;32m      6\u001b[0m \u001b[38;5;28mprint\u001b[39m(\u001b[38;5;124mf\u001b[39m\u001b[38;5;124m'\u001b[39m\u001b[38;5;124mOne pass through the dataset takes \u001b[39m\u001b[38;5;132;01m{\u001b[39;00met \u001b[38;5;241m-\u001b[39m st\u001b[38;5;132;01m}\u001b[39;00m\u001b[38;5;124m seconds.\u001b[39m\u001b[38;5;124m'\u001b[39m)\n",
      "Cell \u001b[0;32mIn [1016], line 29\u001b[0m, in \u001b[0;36msimulate\u001b[0;34m(samples, model, h, epsilon, decay)\u001b[0m\n\u001b[1;32m     27\u001b[0m     a \u001b[38;5;241m=\u001b[39m np\u001b[38;5;241m.\u001b[39margmax(model\u001b[38;5;241m.\u001b[39mQ[s,:])\n\u001b[1;32m     28\u001b[0m     sp \u001b[38;5;241m=\u001b[39m np\u001b[38;5;241m.\u001b[39mrandom\u001b[38;5;241m.\u001b[39mchoice(S, \u001b[38;5;241m1\u001b[39m, \u001b[38;5;28mlist\u001b[39m(transition[s,a]))\n\u001b[0;32m---> 29\u001b[0m     r \u001b[38;5;241m=\u001b[39m \u001b[43mnp\u001b[49m\u001b[38;5;241;43m.\u001b[39;49m\u001b[43mrandom\u001b[49m\u001b[38;5;241;43m.\u001b[39;49m\u001b[43mchoice\u001b[49m\u001b[43m(\u001b[49m\u001b[43msamples\u001b[49m\u001b[43m[\u001b[49m\u001b[43m(\u001b[49m\u001b[43msamples\u001b[49m\u001b[38;5;241;43m.\u001b[39;49m\u001b[43ms\u001b[49m\u001b[43m \u001b[49m\u001b[38;5;241;43m==\u001b[39;49m\u001b[43m \u001b[49m\u001b[43ms\u001b[49m\u001b[43m)\u001b[49m\u001b[38;5;241;43m&\u001b[39;49m\u001b[43m(\u001b[49m\u001b[43msamples\u001b[49m\u001b[38;5;241;43m.\u001b[39;49m\u001b[43ma\u001b[49m\u001b[43m \u001b[49m\u001b[38;5;241;43m==\u001b[39;49m\u001b[43m \u001b[49m\u001b[43ma\u001b[49m\u001b[43m)\u001b[49m\u001b[43m]\u001b[49m\u001b[38;5;241;43m.\u001b[39;49m\u001b[43mr\u001b[49m\u001b[43m)\u001b[49m\n\u001b[1;32m     31\u001b[0m epsilon \u001b[38;5;241m=\u001b[39m decay\u001b[38;5;241m*\u001b[39mepsilon \u001b[38;5;66;03m# decay the epsilon by decay factor\u001b[39;00m\n\u001b[1;32m     32\u001b[0m \u001b[38;5;66;03m#sampling_index = np.random.choice(np.array(np.where((samples.s == s)&(samples.a == a))).ravel()) # sample an index from the dataset where action a is taken in state s\u001b[39;00m\n\u001b[1;32m     33\u001b[0m \u001b[38;5;66;03m#sp, r = samples.iloc[sampling_index, :].sp, samples.iloc[sampling_index, :].r\u001b[39;00m\n",
      "File \u001b[0;32mmtrand.pyx:915\u001b[0m, in \u001b[0;36mnumpy.random.mtrand.RandomState.choice\u001b[0;34m()\u001b[0m\n",
      "\u001b[0;31mValueError\u001b[0m: 'a' cannot be empty unless no samples are taken"
     ]
    }
   ],
   "source": [
    "model = QLearning(S, A, gamma, Q, 0.01)\n",
    "#pi = EpsilonGreedyExploration(0.1, 0.9)\n",
    "st = time.time()\n",
    "Q = simulate(df, model, 10, 0.33, 0.9).Q\n",
    "et = time.time()\n",
    "print(f'One pass through the dataset takes {et - st} seconds.')"
   ]
  },
  {
   "cell_type": "code",
   "execution_count": 1012,
   "id": "f5654000",
   "metadata": {},
   "outputs": [],
   "source": [
    "Q_policy = [np.argmax(Q[s,:]) for s in range(Q.shape[0])]"
   ]
  },
  {
   "cell_type": "code",
   "execution_count": 1013,
   "id": "558f724e-bb01-414e-ab77-0d775da8920f",
   "metadata": {},
   "outputs": [],
   "source": [
    "U = [np.max(Q[s,:]) for s in range(Q.shape[0])]\n"
   ]
  },
  {
   "cell_type": "code",
   "execution_count": 1014,
   "id": "02c16ff3",
   "metadata": {},
   "outputs": [
    {
     "data": {
      "text/plain": [
       "[0, 0, 0, 0, 0, 0, 0, 0, 0, 0, 0, 1, 0, 0, 0, 0, 0]"
      ]
     },
     "execution_count": 1014,
     "metadata": {},
     "output_type": "execute_result"
    }
   ],
   "source": [
    "Q_policy"
   ]
  },
  {
   "cell_type": "code",
   "execution_count": 1015,
   "id": "a6c1251a",
   "metadata": {},
   "outputs": [
    {
     "data": {
      "text/plain": [
       "[<matplotlib.lines.Line2D at 0x29b99e980>]"
      ]
     },
     "execution_count": 1015,
     "metadata": {},
     "output_type": "execute_result"
    },
    {
     "data": {
      "image/png": "[encoded data removed]",
      "text/plain": [
       "<Figure size 640x480 with 1 Axes>"
      ]
     },
     "metadata": {},
     "output_type": "display_data"
    }
   ],
   "source": [
    "plt.plot(U[1:])"
   ]
  },
  {
   "cell_type": "code",
   "execution_count": 476,
   "id": "4fdf00ed",
   "metadata": {},
   "outputs": [],
   "source": [
    "def optimal_policy_sim(list_price, budget, verbose = 1):\n",
    "    count = 1\n",
    "    main_bid = np.random.normal(list_price, 0.15*list_price, 1) # generates our bid\n",
    "    agent_budgets = list_price + np.random.choice(np.arange(-0.2, 0.5, 0.01), 4)*list_price\n",
    "    if verbose: print(f'Budgets of all agents = {agent_budgets}. Our budget = {budget}')\n",
    "    agent_bids = np.append(generate(list_price, agent_budgets, np.array([0,0,0,0])), main_bid) # generates all the bids\n",
    "    \n",
    "    rounds = np.zeros((5,5)) # initializing matrix holding all bids for all rounds\n",
    "    rounds[0,:] = agent_bids\n",
    "    if verbose: print(f'Round {count} bids at listing price of ${list_price}: \\n {agent_bids}\\n Our bid = ${int(main_bid)}' )\n",
    "    if verbose: print('------------------------------------------------------------------------- \\n')\n",
    "    \n",
    "    s = []\n",
    "    a = []\n",
    "    r = []\n",
    " \n",
    "    while raise_bid(list_price, agent_bids[:-1]) & (count < 5):\n",
    "        \n",
    "        # randomly choose continuation state and increase list price correspondingly\n",
    "        state = choose_state() \n",
    "        s += [state] \n",
    "        list_price = new_list_price(state, list_price)\n",
    "        \n",
    "        # choose optimal action\n",
    "        actions = np.arange(1, 1.16, 0.01) # 16 actions. \n",
    "        action = Q_policy[state] # randomly select action\n",
    "        a += [action]\n",
    "        main_bid = actions[action]*main_bid # Main-bid raised by the action\n",
    "        \n",
    "        if action > 0: # raise the bid by x%\n",
    "            r += [float(budget - main_bid)/budget] #r(2,1:)\n",
    "            \n",
    "        else:\n",
    "            r += [0] # Maintain the bid\n",
    "\n",
    "        agent_bids = np.append(generate(list_price, agent_budgets, agent_bids), main_bid)\n",
    "        count += 1\n",
    "        if verbose: print(f'Asking for more offers - Round {count} ...')\n",
    "        if verbose: print(f'Round {count}. New listing price: ${list_price}: \\n {agent_bids}\\n Our bid = ${int(main_bid)}')\n",
    "        if verbose: print(f'Seller raise the price by {(state-1)}%')\n",
    "        if verbose: print(f'We raise the bid by {action}%')\n",
    "        if verbose: print('------------------------------------------------------------------------- \\n')\n",
    "    \n",
    "    \n",
    "    if main_bid == np.max(agent_bids):\n",
    "        # if the our bid is accepted\n",
    "        s += [0]\n",
    "        r += [1 + (budget - main_bid)/budget]\n",
    "        if verbose: print(f'Bidding stopped after {count} round(s). We won the the house at ${int(np.max(agent_bids))}! You are invited to the housewarming!! :D')\n",
    "        if budget > main_bid:\n",
    "            if verbose: print(f'We are ${int(budget - main_bid)} within budget')\n",
    "        else:\n",
    "            if verbose: print(f'We are ${int(main_bid - budget)} over budget')\n",
    "    else:\n",
    "        # if our bid is rejected\n",
    "        s += [1]\n",
    "        r += [0]\n",
    "        if verbose: print(f'Bidding stopped after {count} round(s). House sold to maximum bidder at ${np.max(agent_bids):.2f}. Better luck next time ! :(')\n",
    "\n",
    "    if count > 1:\n",
    "        return pd.DataFrame({'s':s[:-1], 'a':a, 'sp':s[1:], 'r':r[:-1]}).append(pd.DataFrame({'s':s[-1], 'a':[16], 'sp':s[-1], 'r':r[-1]}))\n",
    "    else:\n",
    "        return pd.DataFrame({'s':s[0], 'a':[16], 'sp':s[0], 'r':r[-1]})\n",
    "    "
   ]
  },
  {
   "cell_type": "code",
   "execution_count": 986,
   "id": "fed0cf64",
   "metadata": {},
   "outputs": [],
   "source": [
    "np.save('transition.npy', transition)"
   ]
  },
  {
   "cell_type": "code",
   "execution_count": null,
   "id": "3f5f1afe",
   "metadata": {},
   "outputs": [],
   "source": [
    "np.save()"
   ]
  }
 ],
 "metadata": {
  "kernelspec": {
   "display_name": "NEWENV",
   "language": "python",
   "name": "newenv"
  },
  "language_info": {
   "codemirror_mode": {
    "name": "ipython",
    "version": 3
   },
   "file_extension": ".py",
   "mimetype": "text/x-python",
   "name": "python",
   "nbconvert_exporter": "python",
   "pygments_lexer": "ipython3",
   "version": "3.10.8"
  }
 },
 "nbformat": 4,
 "nbformat_minor": 5
}
